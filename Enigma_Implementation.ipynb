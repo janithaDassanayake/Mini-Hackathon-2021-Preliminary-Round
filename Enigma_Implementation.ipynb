{
 "cells": [
  {
   "cell_type": "markdown",
   "metadata": {},
   "source": [
    "##### IMPLEMENTATION"
   ]
  },
  {
   "cell_type": "code",
   "execution_count": 132,
   "metadata": {},
   "outputs": [],
   "source": [
    "#Imported Libraries\n",
    "\n",
    "import pandas as pd\n",
    "import numpy as np\n",
    "\n",
    "from sklearn.preprocessing import LabelEncoder\n",
    "from sklearn.preprocessing import OneHotEncoder\n",
    "from sklearn.model_selection import train_test_split\n",
    "from sklearn.model_selection import KFold\n",
    "from sklearn.model_selection import cross_val_score\n",
    "from sklearn.model_selection import train_test_split\n",
    "from sklearn import metrics\n",
    "\n",
    "from collections import Counter\n",
    "from collections import defaultdict\n",
    "\n",
    "import matplotlib.pyplot as plt\n",
    "from mlxtend.plotting import plot_confusion_matrix\n",
    "\n",
    "import warnings\n",
    "warnings.filterwarnings('ignore')\n",
    "\n",
    "le = LabelEncoder()"
   ]
  },
  {
   "cell_type": "markdown",
   "metadata": {},
   "source": [
    "### Data Loading and Preprocessing"
   ]
  },
  {
   "cell_type": "code",
   "execution_count": 133,
   "metadata": {},
   "outputs": [],
   "source": [
    "#Reading Data from csv\n",
    "\n",
    "train_data_original = pd.read_csv('D:\\\\COMPETITIONS\\\\ENIGMA_MiniHackathon\\\\train_data.csv')\n",
    "test_data_original = pd.read_csv('D:\\\\COMPETITIONS\\\\ENIGMA_MiniHackathon\\\\test_data.csv')\n",
    "sample_ = pd.read_csv('D:\\\\COMPETITIONS\\\\ENIGMA_MiniHackathon\\\\sampleSubmissionFile.csv')"
   ]
  },
  {
   "cell_type": "code",
   "execution_count": 134,
   "metadata": {},
   "outputs": [],
   "source": [
    "train_data_original_copy = train_data_original\n",
    "test_data_original_copy  = test_data_original"
   ]
  },
  {
   "cell_type": "markdown",
   "metadata": {},
   "source": [
    "Train and Test Data Information"
   ]
  },
  {
   "cell_type": "code",
   "execution_count": 135,
   "metadata": {},
   "outputs": [
    {
     "name": "stdout",
     "output_type": "stream",
     "text": [
      "<class 'pandas.core.frame.DataFrame'>\n",
      "RangeIndex: 10368 entries, 0 to 10367\n",
      "Data columns (total 10 columns):\n",
      " #   Column      Non-Null Count  Dtype \n",
      "---  ------      --------------  ----- \n",
      " 0   ID          10368 non-null  int64 \n",
      " 1   parents     10368 non-null  object\n",
      " 2   has_nurs    10368 non-null  object\n",
      " 3   form        10368 non-null  object\n",
      " 4   children    10368 non-null  object\n",
      " 5   housing     10368 non-null  object\n",
      " 6   finance     10368 non-null  object\n",
      " 7   social      10368 non-null  object\n",
      " 8   health      10368 non-null  object\n",
      " 9   app_status  10368 non-null  int64 \n",
      "dtypes: int64(2), object(8)\n",
      "memory usage: 810.1+ KB\n"
     ]
    }
   ],
   "source": [
    "#Train Data Info\n",
    "train_data_original.info()"
   ]
  },
  {
   "cell_type": "code",
   "execution_count": 136,
   "metadata": {},
   "outputs": [
    {
     "name": "stdout",
     "output_type": "stream",
     "text": [
      "<class 'pandas.core.frame.DataFrame'>\n",
      "RangeIndex: 2592 entries, 0 to 2591\n",
      "Data columns (total 9 columns):\n",
      " #   Column    Non-Null Count  Dtype \n",
      "---  ------    --------------  ----- \n",
      " 0   ID        2592 non-null   int64 \n",
      " 1   parents   2592 non-null   object\n",
      " 2   has_nurs  2592 non-null   object\n",
      " 3   form      2592 non-null   object\n",
      " 4   children  2592 non-null   object\n",
      " 5   housing   2592 non-null   object\n",
      " 6   finance   2592 non-null   object\n",
      " 7   social    2592 non-null   object\n",
      " 8   health    2592 non-null   object\n",
      "dtypes: int64(1), object(8)\n",
      "memory usage: 182.4+ KB\n"
     ]
    }
   ],
   "source": [
    "#Test Data Info\n",
    "test_data_original.info()"
   ]
  },
  {
   "cell_type": "markdown",
   "metadata": {},
   "source": [
    "#### Preprocessing : Check for Null Values"
   ]
  },
  {
   "cell_type": "code",
   "execution_count": 137,
   "metadata": {},
   "outputs": [
    {
     "name": "stdout",
     "output_type": "stream",
     "text": [
      "ID            0\n",
      "parents       0\n",
      "has_nurs      0\n",
      "form          0\n",
      "children      0\n",
      "housing       0\n",
      "finance       0\n",
      "social        0\n",
      "health        0\n",
      "app_status    0\n",
      "dtype: int64\n"
     ]
    }
   ],
   "source": [
    "print(train_data_original.isna().sum())"
   ]
  },
  {
   "cell_type": "code",
   "execution_count": 138,
   "metadata": {},
   "outputs": [
    {
     "name": "stdout",
     "output_type": "stream",
     "text": [
      "ID          0\n",
      "parents     0\n",
      "has_nurs    0\n",
      "form        0\n",
      "children    0\n",
      "housing     0\n",
      "finance     0\n",
      "social      0\n",
      "health      0\n",
      "dtype: int64\n"
     ]
    }
   ],
   "source": [
    "print(test_data_original.isna().sum())"
   ]
  },
  {
   "cell_type": "markdown",
   "metadata": {},
   "source": [
    "##### Conclusion:"
   ]
  },
  {
   "cell_type": "markdown",
   "metadata": {},
   "source": [
    "Total 9 Columns including Target Variable\n",
    "\n",
    "Self Explanatory\n",
    "\n",
    "No Missing Values in Train or Test Data Sets"
   ]
  },
  {
   "cell_type": "markdown",
   "metadata": {},
   "source": [
    "\n",
    "\n"
   ]
  },
  {
   "cell_type": "markdown",
   "metadata": {},
   "source": [
    "### Analysing Values Assigned to Columns "
   ]
  },
  {
   "cell_type": "code",
   "execution_count": 139,
   "metadata": {},
   "outputs": [],
   "source": [
    "train_data_original_copy = train_data_original_copy.drop(columns=['ID'])\n",
    "train_data_categorical_columns = ['parents', 'has_nurs', 'form', 'children', 'housing', 'finance','social','health']"
   ]
  },
  {
   "cell_type": "markdown",
   "metadata": {},
   "source": [
    "#### Data Visualization"
   ]
  },
  {
   "cell_type": "code",
   "execution_count": 192,
   "metadata": {},
   "outputs": [],
   "source": [
    "#Importing Visualization libraries\n",
    "import seaborn as sns\n",
    "import matplotlib.pyplot as plt"
   ]
  },
  {
   "cell_type": "markdown",
   "metadata": {},
   "source": [
    "Visualization of the behavior of all the columns with the Responce Variable is given below"
   ]
  },
  {
   "cell_type": "code",
   "execution_count": 201,
   "metadata": {},
   "outputs": [
    {
     "data": {
      "image/png": "[encoded data removed]",
      "text/plain": [
       "<Figure size 1080x1440 with 8 Axes>"
      ]
     },
     "metadata": {},
     "output_type": "display_data"
    }
   ],
   "source": [
    "#Plotting all the columns with Responce Variable 'app_status'\n",
    "\n",
    "fig,axes = plt.subplots(4,2,figsize=(15,20))\n",
    "sns.set(rc={'figure.figsize':(12,7)})\n",
    "for idx,cat_col in enumerate(train_data_categorical_columns):\n",
    "    row,col = idx//2,idx%2\n",
    "    sns.countplot(x=cat_col,data=train_data_original_copy,hue='app_status',ax=axes[row,col])"
   ]
  },
  {
   "cell_type": "markdown",
   "metadata": {},
   "source": [
    "\n"
   ]
  },
  {
   "cell_type": "markdown",
   "metadata": {},
   "source": [
    "# Countplot"
   ]
  },
  {
   "cell_type": "markdown",
   "metadata": {},
   "source": [
    "Below graphs will show how the counts of the variables are divided"
   ]
  },
  {
   "cell_type": "code",
   "execution_count": 204,
   "metadata": {},
   "outputs": [
    {
     "data": {
      "image/png": "[encoded data removed]",
      "text/plain": [
       "<Figure size 432x216 with 1 Axes>"
      ]
     },
     "metadata": {},
     "output_type": "display_data"
    },
    {
     "data": {
      "image/png": "[encoded data removed]",
      "text/plain": [
       "<Figure size 432x216 with 1 Axes>"
      ]
     },
     "metadata": {},
     "output_type": "display_data"
    },
    {
     "data": {
      "image/png": "[encoded data removed]",
      "text/plain": [
       "<Figure size 432x216 with 1 Axes>"
      ]
     },
     "metadata": {},
     "output_type": "display_data"
    },
    {
     "data": {
      "image/png": "[encoded data removed]",
      "text/plain": [
       "<Figure size 432x216 with 1 Axes>"
      ]
     },
     "metadata": {},
     "output_type": "display_data"
    },
    {
     "data": {
      "image/png": "[encoded data removed]",
      "text/plain": [
       "<Figure size 432x216 with 1 Axes>"
      ]
     },
     "metadata": {},
     "output_type": "display_data"
    },
    {
     "data": {
      "image/png": "[encoded data removed]",
      "text/plain": [
       "<Figure size 432x216 with 1 Axes>"
      ]
     },
     "metadata": {},
     "output_type": "display_data"
    }
   ],
   "source": [
    "sns.set(rc={'figure.figsize':(12,7)})\n",
    "\n",
    "#Counts of 'Parents' Varibal, divided into categories usual, pretentious and grate_pret\n",
    "plt.subplots(figsize = (6,3))\n",
    "sns.countplot(train_data_original_copy['parents'])\n",
    "plt.show()\n",
    "\n",
    "\n",
    "#Cound of 'has_nurs' Variable, divided into categories less_proper, very_crit, proper, improper, critical \n",
    "plt.subplots(figsize = (6,3))\n",
    "sns.countplot(train_data_original_copy['has_nurs'])\n",
    "plt.show()\n",
    "\n",
    "\n",
    "#Counts of 'form' Varibal, divided into categories complete, completed, incomplete, foster\n",
    "plt.subplots(figsize = (6,3))\n",
    "sns.countplot(train_data_original_copy['form'])\n",
    "plt.show()\n",
    "\n",
    "\n",
    "#Counts of 'housing' Varibal, divided into categories critical, convinient, less_conv\n",
    "plt.subplots(figsize = (6,3))\n",
    "sns.countplot(train_data_original_copy['housing'])\n",
    "plt.show()\n",
    "\n",
    "\n",
    "#Counts of 'social' Varibal, divided into categories problematic, nonprob, slightly_prob\n",
    "plt.subplots(figsize = (6,3))\n",
    "sns.countplot(train_data_original_copy['social'])\n",
    "plt.show()\n",
    "\n",
    "\n",
    "#Counts of 'health' Varibal, divided into categories not_recom, priority, recommended\n",
    "plt.subplots(figsize = (6,3))\n",
    "sns.countplot(train_data_original_copy['health'])\n",
    "plt.show()"
   ]
  },
  {
   "cell_type": "markdown",
   "metadata": {},
   "source": [
    "\n",
    "\n",
    "\n"
   ]
  },
  {
   "cell_type": "markdown",
   "metadata": {},
   "source": [
    "### Correlation Heatmap "
   ]
  },
  {
   "cell_type": "markdown",
   "metadata": {},
   "source": [
    "Exploratory data analysis is done by using Correlation Heatmap to identify which variables are correlated, to what degree, in which direction"
   ]
  },
  {
   "cell_type": "code",
   "execution_count": 143,
   "metadata": {},
   "outputs": [],
   "source": [
    "#Encoding Categorical Data\n",
    "for i in train_data_original.columns:\n",
    "    train_data_original[i]=le.fit_transform(train_data_original[i])"
   ]
  },
  {
   "cell_type": "code",
   "execution_count": 144,
   "metadata": {},
   "outputs": [
    {
     "data": {
      "text/plain": [
       "<AxesSubplot:>"
      ]
     },
     "execution_count": 144,
     "metadata": {},
     "output_type": "execute_result"
    },
    {
     "data": {
      "image/png": "[encoded data removed]",
      "text/plain": [
       "<Figure size 1440x1080 with 2 Axes>"
      ]
     },
     "metadata": {
      "needs_background": "light"
     },
     "output_type": "display_data"
    }
   ],
   "source": [
    "#Plotting Correlation\n",
    "plt.subplots(figsize = (20,15))\n",
    "corr = train_data_original.corr()\n",
    "sns.heatmap(corr,annot=True)"
   ]
  },
  {
   "cell_type": "markdown",
   "metadata": {},
   "source": [
    "\n"
   ]
  },
  {
   "cell_type": "markdown",
   "metadata": {},
   "source": [
    "\n"
   ]
  },
  {
   "cell_type": "markdown",
   "metadata": {},
   "source": [
    "### Model Implementation "
   ]
  },
  {
   "cell_type": "markdown",
   "metadata": {},
   "source": [
    "##### Splitting Training Data into Traing and Test "
   ]
  },
  {
   "cell_type": "code",
   "execution_count": 145,
   "metadata": {},
   "outputs": [],
   "source": [
    "X_train, X_test, Y_train, Y_test = train_test_split(train_data_original.iloc[:,1:9], train_data_original.iloc[:,9], train_size=0.9)"
   ]
  },
  {
   "cell_type": "markdown",
   "metadata": {},
   "source": [
    "##### ClassifierModel Implementation : A Model Class to use for different ML Algorithms "
   ]
  },
  {
   "cell_type": "code",
   "execution_count": 146,
   "metadata": {},
   "outputs": [],
   "source": [
    "class ClassifierModel(object):\n",
    "    def __init__(self, clf, params=None):\n",
    "        self.clf = clf(**params)\n",
    "    def train(self, x_train, y_train):\n",
    "        self.clf.fit(x_train, y_train)\n",
    "    \n",
    "    def fit(self,x,y):\n",
    "        return self.clf.fit(x,y)\n",
    "    \n",
    "    def feature_importances(self,x,y):\n",
    "        return self.clf.fit(x,y).feature_importances_\n",
    "    \n",
    "    def predict(self, x):\n",
    "        return self.clf.predict(x)\n",
    "    \n",
    "def trainModel(model, x_train, y_train, x_test, n_folds, seed):\n",
    "    cv = KFold(n_splits= n_folds, random_state=seed, shuffle=True)\n",
    "    scores = cross_val_score(model.clf, x_train, y_train, scoring='accuracy', cv=cv, n_jobs=-1)\n",
    "    return scores"
   ]
  },
  {
   "cell_type": "markdown",
   "metadata": {},
   "source": [
    "\n"
   ]
  },
  {
   "cell_type": "markdown",
   "metadata": {},
   "source": [
    "##### Cross Validation Using Different Classifications "
   ]
  },
  {
   "cell_type": "code",
   "execution_count": 147,
   "metadata": {},
   "outputs": [
    {
     "data": {
      "text/plain": [
       "array([0.90465988, 0.89228296, 0.89817792, 0.91211147, 0.9244373 ])"
      ]
     },
     "execution_count": 147,
     "metadata": {},
     "output_type": "execute_result"
    }
   ],
   "source": [
    "#randomForest cross validation\n",
    "\n",
    "from sklearn.ensemble import RandomForestClassifier\n",
    "\n",
    "rf_params = {\n",
    "    'n_estimators': 400,\n",
    "    'max_depth': 5,\n",
    "    'min_samples_leaf': 3,\n",
    "    'max_features' : 'sqrt',\n",
    "}\n",
    "\n",
    "rfc_model = ClassifierModel(clf=RandomForestClassifier, params=rf_params)\n",
    "rfc_scores = trainModel(rfc_model,X_train, Y_train, X_test, 5, 0)\n",
    "rfc_scores"
   ]
  },
  {
   "cell_type": "code",
   "execution_count": 148,
   "metadata": {},
   "outputs": [
    {
     "data": {
      "text/plain": [
       "array([0.90412426, 0.90300107, 0.89710611, 0.88102894, 0.90139335])"
      ]
     },
     "execution_count": 148,
     "metadata": {},
     "output_type": "execute_result"
    }
   ],
   "source": [
    "# Extra Trees Parameters cross validation\n",
    "\n",
    "from sklearn.ensemble import ExtraTreesClassifier\n",
    "\n",
    "et_params = {\n",
    "    'n_jobs': -1,\n",
    "    'n_estimators':400,\n",
    "    'max_depth': 5,\n",
    "    'min_samples_leaf': 2,\n",
    "}\n",
    "\n",
    "\n",
    "etc_model = ClassifierModel(clf=ExtraTreesClassifier, params=et_params)\n",
    "etc_scores = trainModel(etc_model,X_train, Y_train, X_test, 5, 0) # Random Forest\n",
    "etc_scores"
   ]
  },
  {
   "cell_type": "code",
   "execution_count": 149,
   "metadata": {},
   "outputs": [
    {
     "data": {
      "text/plain": [
       "array([0.936797  , 0.93515541, 0.93086817, 0.92550911, 0.92604502])"
      ]
     },
     "execution_count": 149,
     "metadata": {},
     "output_type": "execute_result"
    }
   ],
   "source": [
    "# AdaBoost parameters cross validation\n",
    "\n",
    "from sklearn.ensemble import AdaBoostClassifier\n",
    "\n",
    "ada_params = {\n",
    "    'n_estimators': 400,\n",
    "    'learning_rate' : 0.65\n",
    "}\n",
    "\n",
    "ada_model = ClassifierModel(clf=AdaBoostClassifier, params=ada_params)\n",
    "ada_scores = trainModel(ada_model,X_train, Y_train, X_test, 5, 0) # Random Forest\n",
    "ada_scores"
   ]
  },
  {
   "cell_type": "code",
   "execution_count": 150,
   "metadata": {},
   "outputs": [
    {
     "data": {
      "text/plain": [
       "array([1., 1., 1., 1., 1.])"
      ]
     },
     "execution_count": 150,
     "metadata": {},
     "output_type": "execute_result"
    }
   ],
   "source": [
    "# Gradient Boosting parameters cross validation\n",
    "\n",
    "from sklearn.ensemble import GradientBoostingClassifier\n",
    "\n",
    "gb_params = {\n",
    "    'n_estimators': 400,\n",
    "    'max_depth': 5,\n",
    "}\n",
    "\n",
    "gbc_model = ClassifierModel(clf=GradientBoostingClassifier, params=gb_params)\n",
    "gbc_scores = trainModel(gbc_model,X_train, Y_train, X_test, 5, 0) # Random Forest\n",
    "gbc_scores"
   ]
  },
  {
   "cell_type": "markdown",
   "metadata": {},
   "source": [
    "\n"
   ]
  },
  {
   "cell_type": "markdown",
   "metadata": {},
   "source": [
    "\n",
    "\n",
    "\n",
    "Function for Stack Model Cross Validation"
   ]
  },
  {
   "cell_type": "code",
   "execution_count": 151,
   "metadata": {},
   "outputs": [],
   "source": [
    "def trainStackModel(x_train, y_train, x_test, n_folds, seed):\n",
    "    import xgboost as xgb\n",
    "    cv = KFold(n_splits= n_folds, random_state=seed , shuffle=True)\n",
    "    gbm = xgb.XGBClassifier(\n",
    "     n_estimators= 2000,\n",
    "     max_depth= 4,\n",
    "     min_child_weight= 2,\n",
    "     gamma=0.9,                        \n",
    "     subsample=0.8,\n",
    "     colsample_bytree=0.8,\n",
    "     objective= 'binary:logistic',\n",
    "     scale_pos_weight=1).fit(x_train, y_train)\n",
    "    \n",
    "    scores = cross_val_score(gbm, x_train, y_train, scoring='accuracy', cv=cv)\n",
    "    return scores"
   ]
  },
  {
   "cell_type": "markdown",
   "metadata": {},
   "source": [
    "\n"
   ]
  },
  {
   "cell_type": "markdown",
   "metadata": {},
   "source": [
    "RandomForest Classifier"
   ]
  },
  {
   "cell_type": "code",
   "execution_count": 152,
   "metadata": {},
   "outputs": [],
   "source": [
    "#Training using RFC\n",
    "rfc_model.train(X_train,Y_train)\n",
    "\n",
    "#Predicting using RFC\n",
    "rfc_train_pred = rfc_model.predict(X_train)"
   ]
  },
  {
   "cell_type": "markdown",
   "metadata": {},
   "source": [
    "ExtraTree Classifier"
   ]
  },
  {
   "cell_type": "code",
   "execution_count": 153,
   "metadata": {},
   "outputs": [],
   "source": [
    "#Training using ETC\n",
    "etc_model.train(X_train,Y_train)\n",
    "\n",
    "#Predicting using ETC\n",
    "etc_train_pred = etc_model.predict(X_train) "
   ]
  },
  {
   "cell_type": "markdown",
   "metadata": {},
   "source": [
    "AdaBoost Classifier"
   ]
  },
  {
   "cell_type": "code",
   "execution_count": 154,
   "metadata": {},
   "outputs": [],
   "source": [
    "#Training using AdaBoost\n",
    "ada_model.train(X_train,Y_train)\n",
    "\n",
    "#Predicting using AdaBoost\n",
    "ada_train_pred =  ada_model.predict(X_train)  "
   ]
  },
  {
   "cell_type": "markdown",
   "metadata": {},
   "source": [
    "GradientBoost Classifier"
   ]
  },
  {
   "cell_type": "code",
   "execution_count": 155,
   "metadata": {},
   "outputs": [],
   "source": [
    "#Training using GBC\n",
    "gbc_model.train(X_train,Y_train)\n",
    "\n",
    "#Predicting using GBC\n",
    "gbc_train_pred = gbc_model.predict(X_train) "
   ]
  },
  {
   "cell_type": "markdown",
   "metadata": {},
   "source": [
    "\n"
   ]
  },
  {
   "cell_type": "markdown",
   "metadata": {},
   "source": [
    "Stack Model for Prediction"
   ]
  },
  {
   "cell_type": "code",
   "execution_count": 156,
   "metadata": {},
   "outputs": [],
   "source": [
    "#Getting output from above classifiers as an nd.array \n",
    "x_train = np.column_stack(( etc_train_pred, rfc_train_pred, ada_train_pred, gbc_train_pred))"
   ]
  },
  {
   "cell_type": "code",
   "execution_count": 157,
   "metadata": {},
   "outputs": [
    {
     "name": "stdout",
     "output_type": "stream",
     "text": [
      "[22:06:38] WARNING: C:/Users/Administrator/workspace/xgboost-win64_release_1.4.0/src/learner.cc:1095: Starting in XGBoost 1.3.0, the default evaluation metric used with the objective 'binary:logistic' was changed from 'error' to 'logloss'. Explicitly set eval_metric if you'd like to restore the old behavior.\n",
      "[22:06:40] WARNING: C:/Users/Administrator/workspace/xgboost-win64_release_1.4.0/src/learner.cc:1095: Starting in XGBoost 1.3.0, the default evaluation metric used with the objective 'binary:logistic' was changed from 'error' to 'logloss'. Explicitly set eval_metric if you'd like to restore the old behavior.\n",
      "[22:06:41] WARNING: C:/Users/Administrator/workspace/xgboost-win64_release_1.4.0/src/learner.cc:1095: Starting in XGBoost 1.3.0, the default evaluation metric used with the objective 'binary:logistic' was changed from 'error' to 'logloss'. Explicitly set eval_metric if you'd like to restore the old behavior.\n",
      "[22:06:43] WARNING: C:/Users/Administrator/workspace/xgboost-win64_release_1.4.0/src/learner.cc:1095: Starting in XGBoost 1.3.0, the default evaluation metric used with the objective 'binary:logistic' was changed from 'error' to 'logloss'. Explicitly set eval_metric if you'd like to restore the old behavior.\n",
      "[22:06:44] WARNING: C:/Users/Administrator/workspace/xgboost-win64_release_1.4.0/src/learner.cc:1095: Starting in XGBoost 1.3.0, the default evaluation metric used with the objective 'binary:logistic' was changed from 'error' to 'logloss'. Explicitly set eval_metric if you'd like to restore the old behavior.\n",
      "[22:06:46] WARNING: C:/Users/Administrator/workspace/xgboost-win64_release_1.4.0/src/learner.cc:1095: Starting in XGBoost 1.3.0, the default evaluation metric used with the objective 'binary:logistic' was changed from 'error' to 'logloss'. Explicitly set eval_metric if you'd like to restore the old behavior.\n"
     ]
    },
    {
     "data": {
      "text/plain": [
       "array([1., 1., 1., 1., 1.])"
      ]
     },
     "execution_count": 157,
     "metadata": {},
     "output_type": "execute_result"
    }
   ],
   "source": [
    "#Input the nd.array for train the Stack Model\n",
    "trainStackModel(x_train, Y_train, X_test, 5, 0)"
   ]
  },
  {
   "cell_type": "markdown",
   "metadata": {},
   "source": [
    "\n"
   ]
  },
  {
   "cell_type": "markdown",
   "metadata": {},
   "source": [
    "Traing the Stack Model using XGBoost"
   ]
  },
  {
   "cell_type": "code",
   "execution_count": 158,
   "metadata": {},
   "outputs": [
    {
     "name": "stdout",
     "output_type": "stream",
     "text": [
      "[22:06:48] WARNING: C:/Users/Administrator/workspace/xgboost-win64_release_1.4.0/src/learner.cc:1095: Starting in XGBoost 1.3.0, the default evaluation metric used with the objective 'binary:logistic' was changed from 'error' to 'logloss'. Explicitly set eval_metric if you'd like to restore the old behavior.\n"
     ]
    }
   ],
   "source": [
    "import xgboost as xgb\n",
    "\n",
    "xgbc=xgb.XGBClassifier(\n",
    "     n_estimators= 2000,\n",
    "     max_depth= 4,\n",
    "     min_child_weight= 2,\n",
    "     gamma=0.9,                        \n",
    "     subsample=0.8,\n",
    "     colsample_bytree=0.8,\n",
    "     objective= 'binary:logistic',\n",
    "     scale_pos_weight=1).fit(x_train, Y_train)"
   ]
  },
  {
   "cell_type": "code",
   "execution_count": 159,
   "metadata": {},
   "outputs": [],
   "source": [
    "#prediction for rfc, etc, ada, gbc\n",
    "\n",
    "rfc_train_pred = rfc_model.predict(X_test) \n",
    "\n",
    "etc_train_pred = etc_model.predict(X_test) \n",
    "\n",
    "ada_train_pred =  ada_model.predict(X_test)  \n",
    "\n",
    "gbc_train_pred = gbc_model.predict(X_test) \n",
    "\n",
    "#Getting a numpy array from the above predictions\n",
    "x_test = np.column_stack(( etc_train_pred, rfc_train_pred, ada_train_pred, gbc_train_pred))\n",
    "\n",
    "#Input the numpy array for xgboot classifier prediction\n",
    "y_pred5=xgbc.predict(x_test)"
   ]
  },
  {
   "cell_type": "markdown",
   "metadata": {},
   "source": [
    "\n"
   ]
  },
  {
   "cell_type": "markdown",
   "metadata": {},
   "source": [
    "\n"
   ]
  },
  {
   "cell_type": "markdown",
   "metadata": {},
   "source": [
    "### Stack Model Accuracy "
   ]
  },
  {
   "cell_type": "code",
   "execution_count": 160,
   "metadata": {},
   "outputs": [],
   "source": [
    "#Stack Model Accuracy\n",
    "from sklearn.metrics import accuracy_score"
   ]
  },
  {
   "cell_type": "markdown",
   "metadata": {},
   "source": [
    "Precision, Re-Call, F1-Score, Support and Classification Report are calculated below."
   ]
  },
  {
   "cell_type": "code",
   "execution_count": 161,
   "metadata": {},
   "outputs": [
    {
     "name": "stdout",
     "output_type": "stream",
     "text": [
      "Accuracy Score   : 1.0\n",
      "\n",
      "--------------------------------------------------------------------------------------------------\n",
      "Confusion Matrix :\n",
      "[[680   0]\n",
      " [  0 357]]\n",
      "\n",
      "--------------------------------------------------------------------------------------------------\n",
      "Classification Report:\n",
      "\n",
      "              precision    recall  f1-score   support\n",
      "\n",
      "           0       1.00      1.00      1.00       680\n",
      "           1       1.00      1.00      1.00       357\n",
      "\n",
      "    accuracy                           1.00      1037\n",
      "   macro avg       1.00      1.00      1.00      1037\n",
      "weighted avg       1.00      1.00      1.00      1037\n",
      "\n"
     ]
    }
   ],
   "source": [
    "#Accuracy of the Model\n",
    "print(\"Accuracy Score   : \"+ str(accuracy_score(Y_test,y_pred5)) + \"\\n\")\n",
    "print(\"--------------------------------------------------------------------------------------------------\")\n",
    "\n",
    "#Confusion Matrix\n",
    "print(\"Confusion Matrix :\")\n",
    "print(metrics.confusion_matrix(Y_test, y_pred5))\n",
    "print()\n",
    "print(\"--------------------------------------------------------------------------------------------------\")\n",
    "\n",
    "#Classification Report\n",
    "print(\"Classification Report:\\n\")\n",
    "print(metrics.classification_report(Y_test, y_pred5))"
   ]
  },
  {
   "cell_type": "markdown",
   "metadata": {},
   "source": [
    "\n"
   ]
  },
  {
   "cell_type": "markdown",
   "metadata": {},
   "source": [
    "##### Confusion Matrix "
   ]
  },
  {
   "cell_type": "code",
   "execution_count": 194,
   "metadata": {},
   "outputs": [
    {
     "data": {
      "image/png": "[encoded data removed]",
      "text/plain": [
       "<Figure size 864x504 with 2 Axes>"
      ]
     },
     "metadata": {},
     "output_type": "display_data"
    }
   ],
   "source": [
    "cm = metrics.confusion_matrix(Y_test, y_pred5)\n",
    "sns.set(rc={'figure.figsize':(12,7)})\n",
    "\n",
    "figure, ax = plot_confusion_matrix(conf_mat = cm,\n",
    "                                   show_absolute = True,\n",
    "                                   show_normed = True,\n",
    "                                   colorbar = True)"
   ]
  },
  {
   "cell_type": "markdown",
   "metadata": {},
   "source": [
    "###### Class wise Error"
   ]
  },
  {
   "cell_type": "code",
   "execution_count": 165,
   "metadata": {},
   "outputs": [
    {
     "name": "stdout",
     "output_type": "stream",
     "text": [
      "0.0\n",
      "0.0\n"
     ]
    }
   ],
   "source": [
    "FP = cm[0][1]\n",
    "FN = cm[1][0]\n",
    "TN = cm[0][0]\n",
    "TP = cm[1][1]\n",
    "\n",
    "error_0 = FP/(TN + FP)\n",
    "error_1 = FN/(TP + FN)\n",
    "\n",
    "print(error_0)\n",
    "print(error_1)"
   ]
  },
  {
   "cell_type": "markdown",
   "metadata": {},
   "source": [
    "\n"
   ]
  },
  {
   "cell_type": "markdown",
   "metadata": {},
   "source": [
    "### XGBoost Classifier : Model Training "
   ]
  },
  {
   "cell_type": "code",
   "execution_count": 166,
   "metadata": {},
   "outputs": [
    {
     "name": "stdout",
     "output_type": "stream",
     "text": [
      "[22:07:14] WARNING: C:/Users/Administrator/workspace/xgboost-win64_release_1.4.0/src/learner.cc:1095: Starting in XGBoost 1.3.0, the default evaluation metric used with the objective 'binary:logistic' was changed from 'error' to 'logloss'. Explicitly set eval_metric if you'd like to restore the old behavior.\n"
     ]
    }
   ],
   "source": [
    "#Individual training XGB\n",
    "import xgboost as xgb\n",
    "\n",
    "xgbc1=xgb.XGBClassifier(\n",
    "     n_estimators= 2000,\n",
    "     max_depth= 4,\n",
    "     min_child_weight= 2,\n",
    "     gamma=0.9,                        \n",
    "     subsample=0.8,\n",
    "     colsample_bytree=0.8,\n",
    "     objective= 'binary:logistic',\n",
    "     scale_pos_weight=1).fit(X_train, Y_train)"
   ]
  },
  {
   "cell_type": "markdown",
   "metadata": {},
   "source": [
    "\n"
   ]
  },
  {
   "cell_type": "markdown",
   "metadata": {},
   "source": [
    "###### XGBoost Classifier Accuracy Test"
   ]
  },
  {
   "cell_type": "code",
   "execution_count": 167,
   "metadata": {},
   "outputs": [
    {
     "name": "stdout",
     "output_type": "stream",
     "text": [
      "XGBoost Accuracy Score       : 1.0 \n",
      "\n",
      "----------------------------------------------------------------------------------------------------\n",
      "Confusion Matrix:\n",
      "[[680   0]\n",
      " [  0 357]]\n",
      "\n",
      "----------------------------------------------------------------------------------------------------\n",
      "\n",
      "\n",
      " Classification Report:\n",
      "\n",
      "              precision    recall  f1-score   support\n",
      "\n",
      "           0       1.00      1.00      1.00       680\n",
      "           1       1.00      1.00      1.00       357\n",
      "\n",
      "    accuracy                           1.00      1037\n",
      "   macro avg       1.00      1.00      1.00      1037\n",
      "weighted avg       1.00      1.00      1.00      1037\n",
      "\n"
     ]
    }
   ],
   "source": [
    "#XGBoost Prediction Accuracy \n",
    "y_pred6=xgbc1.predict(X_test)\n",
    "print(\"XGBoost Accuracy Score       :\",accuracy_score(Y_test,y_pred6) , \"\\n\")\n",
    "print(\"----------------------------------------------------------------------------------------------------\")\n",
    "\n",
    "#XGBoost Confusion Matrix\n",
    "print(\"Confusion Matrix:\")\n",
    "print(metrics.confusion_matrix(Y_test, y_pred6))\n",
    "print()\n",
    "print(\"----------------------------------------------------------------------------------------------------\")\n",
    "\n",
    "#Classification Report\n",
    "print(\"\\n\\n Classification Report:\\n\")\n",
    "print(metrics.classification_report(Y_test, y_pred6))"
   ]
  },
  {
   "cell_type": "markdown",
   "metadata": {},
   "source": [
    "###### XGBoost Classifier : Confusion Matrix "
   ]
  },
  {
   "cell_type": "code",
   "execution_count": 195,
   "metadata": {},
   "outputs": [
    {
     "data": {
      "image/png": "[encoded data removed]",
      "text/plain": [
       "<Figure size 864x504 with 2 Axes>"
      ]
     },
     "metadata": {},
     "output_type": "display_data"
    }
   ],
   "source": [
    "cm = metrics.confusion_matrix(Y_test, y_pred6)\n",
    "sns.set(rc={'figure.figsize':(12,7)})\n",
    "\n",
    "figure, ax = plot_confusion_matrix(conf_mat = cm,\n",
    "                                   show_absolute = True,\n",
    "                                   show_normed = True,\n",
    "                                   colorbar = True)"
   ]
  },
  {
   "cell_type": "markdown",
   "metadata": {},
   "source": [
    "###### XGBoost Class wise Error "
   ]
  },
  {
   "cell_type": "code",
   "execution_count": 170,
   "metadata": {},
   "outputs": [
    {
     "name": "stdout",
     "output_type": "stream",
     "text": [
      "0.0\n",
      "0.0\n"
     ]
    }
   ],
   "source": [
    "FP = cm[0][1]\n",
    "FN = cm[1][0]\n",
    "TN = cm[0][0]\n",
    "TP = cm[1][1]\n",
    "\n",
    "error_0 = FP/(TN + FP)\n",
    "error_1 = FN/(TP + FN)\n",
    "\n",
    "print(error_0)\n",
    "print(error_1)"
   ]
  },
  {
   "cell_type": "markdown",
   "metadata": {},
   "source": [
    "\n"
   ]
  },
  {
   "cell_type": "markdown",
   "metadata": {},
   "source": [
    "\n"
   ]
  },
  {
   "cell_type": "markdown",
   "metadata": {},
   "source": [
    "### RandomForest Classifier"
   ]
  },
  {
   "cell_type": "markdown",
   "metadata": {},
   "source": [
    "##### RFC Accuracy Test "
   ]
  },
  {
   "cell_type": "code",
   "execution_count": 171,
   "metadata": {},
   "outputs": [
    {
     "name": "stdout",
     "output_type": "stream",
     "text": [
      "Random Forest Accuracy Score : 0.9074252651880425\n",
      "\n",
      "---------------------------------------------------------------\n",
      "Confusion Matrix:\n",
      "[[632  48]\n",
      " [ 48 309]]\n",
      "\n",
      "---------------------------------------------------------------\n",
      "Classification Report:\n",
      "\n",
      "              precision    recall  f1-score   support\n",
      "\n",
      "           0       0.93      0.93      0.93       680\n",
      "           1       0.87      0.87      0.87       357\n",
      "\n",
      "    accuracy                           0.91      1037\n",
      "   macro avg       0.90      0.90      0.90      1037\n",
      "weighted avg       0.91      0.91      0.91      1037\n",
      "\n"
     ]
    }
   ],
   "source": [
    "#RFC Model Predicting Accuracy\n",
    "y_pred7 = rfc_model.predict(X_test)\n",
    "print(\"Random Forest Accuracy Score :\",accuracy_score(Y_test,y_pred7))\n",
    "print()\n",
    "print(\"---------------------------------------------------------------\")\n",
    "\n",
    "#RFC Model Confusion Matrix\n",
    "print(\"Confusion Matrix:\")\n",
    "print(metrics.confusion_matrix(Y_test, y_pred7))\n",
    "print()\n",
    "print(\"---------------------------------------------------------------\")\n",
    "\n",
    "#RFC Model Classification Report\n",
    "print(\"Classification Report:\\n\")\n",
    "print(metrics.classification_report(Y_test, y_pred7))"
   ]
  },
  {
   "cell_type": "markdown",
   "metadata": {},
   "source": [
    "###### RFC Confusion Matrix "
   ]
  },
  {
   "cell_type": "code",
   "execution_count": 196,
   "metadata": {},
   "outputs": [
    {
     "data": {
      "image/png": "[encoded data removed]",
      "text/plain": [
       "<Figure size 864x504 with 2 Axes>"
      ]
     },
     "metadata": {},
     "output_type": "display_data"
    }
   ],
   "source": [
    "cm = metrics.confusion_matrix(Y_test, y_pred7)\n",
    "sns.set(rc={'figure.figsize':(12,7)})\n",
    "\n",
    "figure, ax = plot_confusion_matrix(conf_mat = cm,\n",
    "                                   show_absolute = True,\n",
    "                                   show_normed = True,\n",
    "                                   colorbar = True)"
   ]
  },
  {
   "cell_type": "markdown",
   "metadata": {},
   "source": [
    "###### RFC Class wise Error "
   ]
  },
  {
   "cell_type": "code",
   "execution_count": 174,
   "metadata": {},
   "outputs": [
    {
     "name": "stdout",
     "output_type": "stream",
     "text": [
      "0.07058823529411765\n",
      "0.13445378151260504\n"
     ]
    }
   ],
   "source": [
    "FP = cm[0][1]\n",
    "FN = cm[1][0]\n",
    "TN = cm[0][0]\n",
    "TP = cm[1][1]\n",
    "\n",
    "error_0 = FP/(TN + FP)\n",
    "error_1 = FN/(TP + FN)\n",
    "\n",
    "print(error_0)\n",
    "print(error_1)"
   ]
  },
  {
   "cell_type": "markdown",
   "metadata": {},
   "source": [
    "\n"
   ]
  },
  {
   "cell_type": "markdown",
   "metadata": {},
   "source": [
    "\n"
   ]
  },
  {
   "cell_type": "markdown",
   "metadata": {},
   "source": [
    "### ExtraTree Classifier "
   ]
  },
  {
   "cell_type": "markdown",
   "metadata": {},
   "source": [
    "###### ETC Model Accuracy"
   ]
  },
  {
   "cell_type": "code",
   "execution_count": 175,
   "metadata": {},
   "outputs": [
    {
     "name": "stdout",
     "output_type": "stream",
     "text": [
      "ExtraTrees Accuracy Score    : 0.8891031822565092\n",
      "\n",
      "---------------------------------------------------------------\n",
      "Confusion Matrix:\n",
      "[[661  19]\n",
      " [ 96 261]]\n",
      "\n",
      "---------------------------------------------------------------\n",
      "Classification Report:\n",
      "\n",
      "              precision    recall  f1-score   support\n",
      "\n",
      "           0       0.87      0.97      0.92       680\n",
      "           1       0.93      0.73      0.82       357\n",
      "\n",
      "    accuracy                           0.89      1037\n",
      "   macro avg       0.90      0.85      0.87      1037\n",
      "weighted avg       0.89      0.89      0.89      1037\n",
      "\n"
     ]
    }
   ],
   "source": [
    "#ETC Model Predicting Accuracy\n",
    "y_pred8 = etc_model.predict(X_test) \n",
    "print(\"ExtraTrees Accuracy Score    :\",accuracy_score(Y_test,y_pred8))\n",
    "print()\n",
    "print(\"---------------------------------------------------------------\")\n",
    "\n",
    "#ETC Confusion Matrix\n",
    "print(\"Confusion Matrix:\")\n",
    "print(metrics.confusion_matrix(Y_test, y_pred8))\n",
    "print()\n",
    "print(\"---------------------------------------------------------------\")\n",
    "\n",
    "#ETC Classification Report\n",
    "print(\"Classification Report:\\n\")\n",
    "print(metrics.classification_report(Y_test, y_pred8))"
   ]
  },
  {
   "cell_type": "markdown",
   "metadata": {},
   "source": [
    "###### ETC Confusion Matrix"
   ]
  },
  {
   "cell_type": "code",
   "execution_count": 197,
   "metadata": {},
   "outputs": [
    {
     "data": {
      "image/png": "[encoded data removed]",
      "text/plain": [
       "<Figure size 864x504 with 2 Axes>"
      ]
     },
     "metadata": {},
     "output_type": "display_data"
    }
   ],
   "source": [
    "cm = metrics.confusion_matrix(Y_test, y_pred8)\n",
    "sns.set(rc={'figure.figsize':(12,7)})\n",
    "\n",
    "figure, ax = plot_confusion_matrix(conf_mat = cm,\n",
    "                                   show_absolute = True,\n",
    "                                   show_normed = True,\n",
    "                                   colorbar = True)\n"
   ]
  },
  {
   "cell_type": "markdown",
   "metadata": {},
   "source": [
    "###### ETC Class wise Error"
   ]
  },
  {
   "cell_type": "code",
   "execution_count": 177,
   "metadata": {},
   "outputs": [
    {
     "name": "stdout",
     "output_type": "stream",
     "text": [
      "0.027941176470588237\n",
      "0.2689075630252101\n"
     ]
    }
   ],
   "source": [
    "FP = cm[0][1]\n",
    "FN = cm[1][0]\n",
    "TN = cm[0][0]\n",
    "TP = cm[1][1]\n",
    "\n",
    "error_0 = FP/(TN + FP)\n",
    "error_1 = FN/(TP + FN)\n",
    "\n",
    "print(error_0)\n",
    "print(error_1)"
   ]
  },
  {
   "cell_type": "markdown",
   "metadata": {},
   "source": [
    "\n"
   ]
  },
  {
   "cell_type": "markdown",
   "metadata": {},
   "source": [
    "\n"
   ]
  },
  {
   "cell_type": "markdown",
   "metadata": {},
   "source": [
    "### ADABoost Classifier"
   ]
  },
  {
   "cell_type": "markdown",
   "metadata": {},
   "source": [
    "###### ADA Model Accuracy"
   ]
  },
  {
   "cell_type": "code",
   "execution_count": 178,
   "metadata": {},
   "outputs": [
    {
     "name": "stdout",
     "output_type": "stream",
     "text": [
      "AdaBoost Accuracy Score      : 0.9296046287367405\n",
      "\n",
      "---------------------------------------------------------------\n",
      "Confusion Matrix:\n",
      "[[638  42]\n",
      " [ 31 326]]\n",
      "\n",
      "---------------------------------------------------------------\n",
      "Classification Report:\n",
      "\n",
      "              precision    recall  f1-score   support\n",
      "\n",
      "           0       0.95      0.94      0.95       680\n",
      "           1       0.89      0.91      0.90       357\n",
      "\n",
      "    accuracy                           0.93      1037\n",
      "   macro avg       0.92      0.93      0.92      1037\n",
      "weighted avg       0.93      0.93      0.93      1037\n",
      "\n"
     ]
    }
   ],
   "source": [
    "#adaBoost Model Predicting Accuracy\n",
    "y_pred9 = ada_model.predict(X_test)  \n",
    "print(\"AdaBoost Accuracy Score      :\",accuracy_score(Y_test,y_pred9))\n",
    "print()\n",
    "print(\"---------------------------------------------------------------\")\n",
    "\n",
    "#AdaBoost Confusion Matrix\n",
    "print(\"Confusion Matrix:\")\n",
    "print(metrics.confusion_matrix(Y_test, y_pred9))\n",
    "print()\n",
    "print(\"---------------------------------------------------------------\")\n",
    "\n",
    "#ADABoost Classification Report\n",
    "print(\"Classification Report:\\n\")\n",
    "print(metrics.classification_report(Y_test, y_pred9))"
   ]
  },
  {
   "cell_type": "markdown",
   "metadata": {},
   "source": [
    "###### ADABoost Confusion Matrix "
   ]
  },
  {
   "cell_type": "code",
   "execution_count": 198,
   "metadata": {},
   "outputs": [
    {
     "data": {
      "image/png": "[encoded data removed]",
      "text/plain": [
       "<Figure size 864x504 with 2 Axes>"
      ]
     },
     "metadata": {},
     "output_type": "display_data"
    }
   ],
   "source": [
    "cm = metrics.confusion_matrix(Y_test, y_pred9)\n",
    "sns.set(rc={'figure.figsize':(12,7)})\n",
    "\n",
    "figure, ax = plot_confusion_matrix(conf_mat = cm,\n",
    "                                   show_absolute = True,\n",
    "                                   show_normed = True,\n",
    "                                   colorbar = True)"
   ]
  },
  {
   "cell_type": "markdown",
   "metadata": {},
   "source": [
    "###### ADABoost Class wise Error "
   ]
  },
  {
   "cell_type": "code",
   "execution_count": 180,
   "metadata": {},
   "outputs": [
    {
     "name": "stdout",
     "output_type": "stream",
     "text": [
      "0.061764705882352944\n",
      "0.08683473389355742\n"
     ]
    }
   ],
   "source": [
    "FP = cm[0][1]\n",
    "FN = cm[1][0]\n",
    "TN = cm[0][0]\n",
    "TP = cm[1][1]\n",
    "\n",
    "error_0 = FP/(TN + FP)\n",
    "error_1 = FN/(TP + FN)\n",
    "\n",
    "print(error_0)\n",
    "print(error_1)"
   ]
  },
  {
   "cell_type": "markdown",
   "metadata": {},
   "source": [
    "\n"
   ]
  },
  {
   "cell_type": "markdown",
   "metadata": {},
   "source": [
    "\n"
   ]
  },
  {
   "cell_type": "markdown",
   "metadata": {},
   "source": [
    "### GradientBoost Classifier "
   ]
  },
  {
   "cell_type": "markdown",
   "metadata": {},
   "source": [
    "###### GBC Model Accuracy "
   ]
  },
  {
   "cell_type": "code",
   "execution_count": 187,
   "metadata": {},
   "outputs": [
    {
     "name": "stdout",
     "output_type": "stream",
     "text": [
      "Gradiant Boost Accuracy Score: 1.0\n",
      "\n",
      "---------------------------------------------------------------\n",
      "Confusion Matrix:\n",
      "[[680   0]\n",
      " [  0 357]]\n",
      "\n",
      "---------------------------------------------------------------\n",
      "Classification Report:\n",
      "\n",
      "              precision    recall  f1-score   support\n",
      "\n",
      "           0       1.00      1.00      1.00       680\n",
      "           1       1.00      1.00      1.00       357\n",
      "\n",
      "    accuracy                           1.00      1037\n",
      "   macro avg       1.00      1.00      1.00      1037\n",
      "weighted avg       1.00      1.00      1.00      1037\n",
      "\n"
     ]
    }
   ],
   "source": [
    "# GBC Model Predicting Accuracy\n",
    "y_pred10 = gbc_model.predict(X_test) \n",
    "print(\"Gradiant Boost Accuracy Score:\",accuracy_score(Y_test,y_pred10))\n",
    "print()\n",
    "print(\"---------------------------------------------------------------\")\n",
    "\n",
    "#GBC Confusion Matrix\n",
    "print(\"Confusion Matrix:\")\n",
    "print(metrics.confusion_matrix(Y_test, y_pred10))\n",
    "print()\n",
    "print(\"---------------------------------------------------------------\")\n",
    "\n",
    "#GBC Classification Report\n",
    "print(\"Classification Report:\\n\")\n",
    "print(metrics.classification_report(Y_test, y_pred10))"
   ]
  },
  {
   "cell_type": "markdown",
   "metadata": {},
   "source": [
    "###### GBC Confusion Matrix "
   ]
  },
  {
   "cell_type": "code",
   "execution_count": 199,
   "metadata": {},
   "outputs": [
    {
     "data": {
      "image/png": "[encoded data removed]",
      "text/plain": [
       "<Figure size 864x504 with 2 Axes>"
      ]
     },
     "metadata": {},
     "output_type": "display_data"
    }
   ],
   "source": [
    "cm = metrics.confusion_matrix(Y_test, y_pred10)\n",
    "sns.set(rc={'figure.figsize':(12,7)})\n",
    "\n",
    "figure, ax = plot_confusion_matrix(conf_mat = cm,\n",
    "                                   show_absolute = True,\n",
    "                                   show_normed = True,\n",
    "                                   colorbar = True)"
   ]
  },
  {
   "cell_type": "markdown",
   "metadata": {},
   "source": [
    "###### GBC Class wise Error "
   ]
  },
  {
   "cell_type": "code",
   "execution_count": 189,
   "metadata": {},
   "outputs": [
    {
     "name": "stdout",
     "output_type": "stream",
     "text": [
      "0.0\n",
      "0.0\n"
     ]
    }
   ],
   "source": [
    "FP = cm[0][1]\n",
    "FN = cm[1][0]\n",
    "TN = cm[0][0]\n",
    "TP = cm[1][1]\n",
    "\n",
    "error_0 = FP/(TN + FP)\n",
    "error_1 = FN/(TP + FN)\n",
    "\n",
    "print(error_0)\n",
    "print(error_1)"
   ]
  },
  {
   "cell_type": "markdown",
   "metadata": {},
   "source": [
    "\n"
   ]
  },
  {
   "cell_type": "markdown",
   "metadata": {},
   "source": [
    "\n"
   ]
  },
  {
   "cell_type": "markdown",
   "metadata": {},
   "source": [
    "### Model Comparison "
   ]
  },
  {
   "cell_type": "code",
   "execution_count": 205,
   "metadata": {},
   "outputs": [],
   "source": [
    "#Accuracy classification score\n",
    "XGBoost=round(accuracy_score(Y_test, y_pred6)*100,3)\n",
    "RandomForest = round(accuracy_score(Y_test, y_pred7)*100,3)\n",
    "ExtraTree = round(accuracy_score(Y_test, y_pred8)*100,3)\n",
    "ADABoost = round(accuracy_score( Y_test, y_pred9)*100,3)\n",
    "GradientBoost= round(accuracy_score(Y_test, y_pred10)*100,3)"
   ]
  },
  {
   "cell_type": "code",
   "execution_count": 207,
   "metadata": {},
   "outputs": [
    {
     "data": {
      "image/png": "[encoded data removed]",
      "text/plain": [
       "<Figure size 720x504 with 1 Axes>"
      ]
     },
     "metadata": {},
     "output_type": "display_data"
    }
   ],
   "source": [
    "sns.set(rc={'figure.figsize':(10,7)})\n",
    "fig = plt.figure()\n",
    "ax = fig.add_axes([0,0,1,1])\n",
    "Models = ['XGBoost', 'RandomForest', 'ExtraTree', 'ADABoost','GradientBoost']\n",
    "Accuracy=[XGBoost,RandomForest,ExtraTree,ADABoost,GradientBoost]\n",
    "#Define colours to bars\n",
    "ax.bar(Models,Accuracy,color=['#004242','#3d0c02','#32174d','#52593b','#560319']);\n",
    "for i in ax.patches:\n",
    "    ax.text(i.get_x()+.1, i.get_height()-5.5, str(round(i.get_height(),2))+'%', fontsize=15, color='white')\n",
    "plt.title('Comparison of Different Models');\n",
    "plt.ylabel('Accuracy');\n",
    "plt.xlabel('Model');\n",
    "plt.show();"
   ]
  },
  {
   "cell_type": "code",
   "execution_count": null,
   "metadata": {},
   "outputs": [],
   "source": []
  },
  {
   "cell_type": "code",
   "execution_count": null,
   "metadata": {},
   "outputs": [],
   "source": []
  },
  {
   "cell_type": "markdown",
   "metadata": {},
   "source": [
    "\n"
   ]
  },
  {
   "cell_type": "markdown",
   "metadata": {},
   "source": [
    "# -----------------------------------Final Model Implementation-----------------------------------"
   ]
  },
  {
   "cell_type": "code",
   "execution_count": 121,
   "metadata": {},
   "outputs": [],
   "source": [
    "df_train = pd.read_csv('D:\\\\COMPETITIONS\\\\ENIGMA_MiniHackathon\\\\train_data.csv')\n",
    "df_train = df_train.drop('ID', axis=1)\n",
    "\n",
    "df_test = pd.read_csv('D:\\\\COMPETITIONS\\\\ENIGMA_MiniHackathon\\\\test_data.csv')\n",
    "df_test = df_test.drop('ID', axis=1)\n",
    " \n",
    "df_output = pd.concat([df_train, df_test])\n",
    " \n",
    "df_output\n",
    "df_output_new = df_output.drop(\"app_status\", axis=1)"
   ]
  },
  {
   "cell_type": "markdown",
   "metadata": {},
   "source": [
    "Encoding and Splitting DataSet"
   ]
  },
  {
   "cell_type": "code",
   "execution_count": 122,
   "metadata": {},
   "outputs": [],
   "source": [
    "for i in df_output_new.columns:\n",
    "    df_output_new[i]=le.fit_transform(df_output_new[i])\n",
    "\n",
    "X_train=df_output_new[:10368]\n",
    "X_test=df_output_new[10368:]\n",
    "Y_train=df_train.iloc[:,8]"
   ]
  },
  {
   "cell_type": "markdown",
   "metadata": {},
   "source": [
    "\n"
   ]
  },
  {
   "cell_type": "markdown",
   "metadata": {},
   "source": [
    "Getting the model Predictions for RFC, ETC, ADABoost & GBC "
   ]
  },
  {
   "cell_type": "code",
   "execution_count": 123,
   "metadata": {},
   "outputs": [],
   "source": [
    "rfc_train_pred = rfc_model.predict(X_test) \n",
    "\n",
    "etc_train_pred = etc_model.predict(X_test) \n",
    "\n",
    "ada_train_pred =  ada_model.predict(X_test)  \n",
    "\n",
    "gbc_train_pred = gbc_model.predict(X_test) \n",
    "\n",
    "x_test = np.column_stack(( etc_train_pred, rfc_train_pred, ada_train_pred, gbc_train_pred))\n",
    "\n",
    "#Outcome of above four classifiers taken into a numpy array and input to the XGBoost Classifier\n",
    "y_pred5=xgbc.predict(x_test)"
   ]
  },
  {
   "cell_type": "markdown",
   "metadata": {},
   "source": [
    "\n",
    "\n"
   ]
  },
  {
   "cell_type": "code",
   "execution_count": 125,
   "metadata": {},
   "outputs": [
    {
     "name": "stdout",
     "output_type": "stream",
     "text": [
      "<class 'pandas.core.frame.DataFrame'>\n"
     ]
    },
    {
     "data": {
      "text/html": [
       "<div>\n",
       "<style scoped>\n",
       "    .dataframe tbody tr th:only-of-type {\n",
       "        vertical-align: middle;\n",
       "    }\n",
       "\n",
       "    .dataframe tbody tr th {\n",
       "        vertical-align: top;\n",
       "    }\n",
       "\n",
       "    .dataframe thead th {\n",
       "        text-align: right;\n",
       "    }\n",
       "</style>\n",
       "<table border=\"1\" class=\"dataframe\">\n",
       "  <thead>\n",
       "    <tr style=\"text-align: right;\">\n",
       "      <th></th>\n",
       "      <th>app_status</th>\n",
       "    </tr>\n",
       "  </thead>\n",
       "  <tbody>\n",
       "    <tr>\n",
       "      <th>1</th>\n",
       "      <td>1</td>\n",
       "    </tr>\n",
       "    <tr>\n",
       "      <th>2</th>\n",
       "      <td>1</td>\n",
       "    </tr>\n",
       "    <tr>\n",
       "      <th>3</th>\n",
       "      <td>1</td>\n",
       "    </tr>\n",
       "    <tr>\n",
       "      <th>4</th>\n",
       "      <td>1</td>\n",
       "    </tr>\n",
       "    <tr>\n",
       "      <th>5</th>\n",
       "      <td>1</td>\n",
       "    </tr>\n",
       "  </tbody>\n",
       "</table>\n",
       "</div>"
      ],
      "text/plain": [
       "   app_status\n",
       "1           1\n",
       "2           1\n",
       "3           1\n",
       "4           1\n",
       "5           1"
      ]
     },
     "execution_count": 125,
     "metadata": {},
     "output_type": "execute_result"
    }
   ],
   "source": [
    "import numpy as np\n",
    "import pandas as pd\n",
    " \n",
    "df = pd.DataFrame(y_pred5, columns = ['app_status'])\n",
    "print(type(df))\n",
    " \n",
    "df.index += 1\n",
    "df.head(5)"
   ]
  },
  {
   "cell_type": "code",
   "execution_count": 124,
   "metadata": {},
   "outputs": [],
   "source": [
    "df.to_csv(\"output1.csv\")"
   ]
  },
  {
   "cell_type": "markdown",
   "metadata": {},
   "source": [
    "\n"
   ]
  },
  {
   "cell_type": "markdown",
   "metadata": {},
   "source": [
    "\n"
   ]
  },
  {
   "cell_type": "markdown",
   "metadata": {},
   "source": [
    "### Area Under Curve "
   ]
  },
  {
   "cell_type": "markdown",
   "metadata": {},
   "source": [
    "AUC = 1"
   ]
  },
  {
   "cell_type": "markdown",
   "metadata": {},
   "source": [
    "\n"
   ]
  },
  {
   "cell_type": "code",
   "execution_count": null,
   "metadata": {},
   "outputs": [],
   "source": []
  },
  {
   "cell_type": "code",
   "execution_count": null,
   "metadata": {},
   "outputs": [],
   "source": []
  }
 ],
 "metadata": {
  "kernelspec": {
   "display_name": "Python 3",
   "language": "python",
   "name": "python3"
  },
  "language_info": {
   "codemirror_mode": {
    "name": "ipython",
    "version": 3
   },
   "file_extension": ".py",
   "mimetype": "text/x-python",
   "name": "python",
   "nbconvert_exporter": "python",
   "pygments_lexer": "ipython3",
   "version": "3.8.5"
  }
 },
 "nbformat": 4,
 "nbformat_minor": 4
}
